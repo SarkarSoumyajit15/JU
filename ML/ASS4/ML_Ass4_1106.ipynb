{
  "nbformat": 4,
  "nbformat_minor": 0,
  "metadata": {
    "colab": {
      "provenance": []
    },
    "kernelspec": {
      "name": "python3",
      "display_name": "Python 3"
    },
    "language_info": {
      "name": "python"
    }
  },
  "cells": [
    {
      "cell_type": "markdown",
      "source": [
        "# Setup and Imports"
      ],
      "metadata": {
        "id": "brVMcqgPPeH2"
      }
    },
    {
      "cell_type": "code",
      "metadata": {
        "colab": {
          "base_uri": "https://localhost:8080/"
        },
        "id": "6a4715cf",
        "outputId": "62621d41-48e3-4e54-e3c7-a9490cbd7692"
      },
      "source": [
        "!pip install \"numpy<2\""
      ],
      "execution_count": 17,
      "outputs": [
        {
          "output_type": "stream",
          "name": "stdout",
          "text": [
            "Requirement already satisfied: numpy<2 in /usr/local/lib/python3.12/dist-packages (1.26.4)\n"
          ]
        }
      ]
    },
    {
      "cell_type": "code",
      "metadata": {
        "colab": {
          "base_uri": "https://localhost:8080/"
        },
        "id": "402abe8e",
        "outputId": "b68747c3-015e-47f1-e6c0-d052673b87c3"
      },
      "source": [
        "!pip install scikit-learn-extra -q\n",
        "\n",
        "# Clustering algorithms\n",
        "from sklearn_extra.cluster import KMedoids"
      ],
      "execution_count": 1,
      "outputs": [
        {
          "output_type": "stream",
          "name": "stdout",
          "text": [
            "  Installing build dependencies ... \u001b[?25l\u001b[?25hdone\n",
            "  Getting requirements to build wheel ... \u001b[?25l\u001b[?25hdone\n",
            "  Preparing metadata (pyproject.toml) ... \u001b[?25l\u001b[?25hdone\n",
            "  Building wheel for scikit-learn-extra (pyproject.toml) ... \u001b[?25l\u001b[?25hdone\n"
          ]
        }
      ]
    },
    {
      "cell_type": "code",
      "execution_count": 2,
      "metadata": {
        "colab": {
          "base_uri": "https://localhost:8080/"
        },
        "id": "1M_24_Y6MMnM",
        "outputId": "45424d0f-257e-41a4-9a7a-40addf58c468"
      },
      "outputs": [
        {
          "output_type": "stream",
          "name": "stdout",
          "text": [
            "Libraries imported successfully.\n"
          ]
        }
      ],
      "source": [
        "# General imports\n",
        "import numpy as np\n",
        "import pandas as pd\n",
        "import matplotlib.pyplot as plt\n",
        "from sklearn import datasets\n",
        "from sklearn.preprocessing import StandardScaler\n",
        "\n",
        "# Clustering algorithms\n",
        "from sklearn.cluster import KMeans, AgglomerativeClustering, DBSCAN, OPTICS, BisectingKMeans\n",
        "\n",
        "# Hierarchy for Dendrogram\n",
        "from scipy.cluster.hierarchy import dendrogram, linkage\n",
        "\n",
        "# Evaluation metrics\n",
        "from sklearn.metrics import (\n",
        "    rand_score,\n",
        "    adjusted_rand_score,\n",
        "    mutual_info_score,\n",
        "    adjusted_mutual_info_score,\n",
        "    normalized_mutual_info_score,\n",
        "    silhouette_score,\n",
        "    calinski_harabasz_score,\n",
        "    davies_bouldin_score\n",
        ")\n",
        "\n",
        "# Suppress warnings for cleaner output\n",
        "import warnings\n",
        "warnings.filterwarnings('ignore')\n",
        "\n",
        "print(\"Libraries imported successfully.\")"
      ]
    },
    {
      "cell_type": "markdown",
      "source": [
        "# Load Datasets"
      ],
      "metadata": {
        "id": "QxuC1x3oSeAO"
      }
    },
    {
      "cell_type": "code",
      "source": [
        "pip install ucimlrepo"
      ],
      "metadata": {
        "colab": {
          "base_uri": "https://localhost:8080/"
        },
        "id": "TNr_t0bWMp20",
        "outputId": "2b5e5d7e-212e-439a-c0b7-25cf76c60d28"
      },
      "execution_count": 3,
      "outputs": [
        {
          "output_type": "stream",
          "name": "stdout",
          "text": [
            "Collecting ucimlrepo\n",
            "  Downloading ucimlrepo-0.0.7-py3-none-any.whl.metadata (5.5 kB)\n",
            "Requirement already satisfied: pandas>=1.0.0 in /usr/local/lib/python3.12/dist-packages (from ucimlrepo) (2.2.2)\n",
            "Requirement already satisfied: certifi>=2020.12.5 in /usr/local/lib/python3.12/dist-packages (from ucimlrepo) (2025.10.5)\n",
            "Requirement already satisfied: numpy>=1.26.0 in /usr/local/lib/python3.12/dist-packages (from pandas>=1.0.0->ucimlrepo) (1.26.4)\n",
            "Requirement already satisfied: python-dateutil>=2.8.2 in /usr/local/lib/python3.12/dist-packages (from pandas>=1.0.0->ucimlrepo) (2.9.0.post0)\n",
            "Requirement already satisfied: pytz>=2020.1 in /usr/local/lib/python3.12/dist-packages (from pandas>=1.0.0->ucimlrepo) (2025.2)\n",
            "Requirement already satisfied: tzdata>=2022.7 in /usr/local/lib/python3.12/dist-packages (from pandas>=1.0.0->ucimlrepo) (2025.2)\n",
            "Requirement already satisfied: six>=1.5 in /usr/local/lib/python3.12/dist-packages (from python-dateutil>=2.8.2->pandas>=1.0.0->ucimlrepo) (1.17.0)\n",
            "Downloading ucimlrepo-0.0.7-py3-none-any.whl (8.0 kB)\n",
            "Installing collected packages: ucimlrepo\n",
            "Successfully installed ucimlrepo-0.0.7\n"
          ]
        }
      ]
    },
    {
      "cell_type": "code",
      "source": [
        "# Load Iris Dataset\n",
        "from ucimlrepo import fetch_ucirepo\n",
        "iris = fetch_ucirepo(id=53)\n",
        "X_iris, y_iris = iris.data.features, iris.data.targets\n",
        "# Get number of clusters for Iris\n",
        "k_iris = len(np.unique(y_iris))\n",
        "print(f\"Iris dataset loaded: {X_iris.shape[0]} samples, {X_iris.shape[1]} features, {k_iris} classes.\")\n",
        "\n",
        "# Load Wine Dataset\n",
        "wine = fetch_ucirepo(id=109)\n",
        "X_wine, y_wine = wine.data.features, wine.data.targets\n",
        "# Get number of clusters for Wine\n",
        "k_wine = len(np.unique(y_wine))\n",
        "print(f\"Wine dataset loaded: {X_wine.shape[0]} samples, {X_wine.shape[1]} features, {k_wine} classes.\")"
      ],
      "metadata": {
        "colab": {
          "base_uri": "https://localhost:8080/"
        },
        "id": "F8frG5CWMUS6",
        "outputId": "9e52dbc0-2ec5-433f-c043-b4be41da8e8b"
      },
      "execution_count": 4,
      "outputs": [
        {
          "output_type": "stream",
          "name": "stdout",
          "text": [
            "Iris dataset loaded: 150 samples, 4 features, 3 classes.\n",
            "Wine dataset loaded: 178 samples, 13 features, 3 classes.\n"
          ]
        }
      ]
    },
    {
      "cell_type": "markdown",
      "source": [
        "# Preprocessing and Helper Functions"
      ],
      "metadata": {
        "id": "XTW0PS_HShiD"
      }
    },
    {
      "cell_type": "markdown",
      "source": [
        "## Data Scaling"
      ],
      "metadata": {
        "id": "ngMuaUmISmnT"
      }
    },
    {
      "cell_type": "code",
      "source": [
        "scaler = StandardScaler()\n",
        "\n",
        "# Scale Iris data\n",
        "X_iris_scaled = scaler.fit_transform(X_iris)\n",
        "\n",
        "# Scale Wine data\n",
        "X_wine_scaled = scaler.fit_transform(X_wine)\n",
        "\n",
        "print(\"Data scaled.\")"
      ],
      "metadata": {
        "colab": {
          "base_uri": "https://localhost:8080/"
        },
        "id": "bqgaN6adMX45",
        "outputId": "60ea2f9d-a04d-4503-bfa9-30936f48c70e"
      },
      "execution_count": 5,
      "outputs": [
        {
          "output_type": "stream",
          "name": "stdout",
          "text": [
            "Data scaled.\n"
          ]
        }
      ]
    },
    {
      "cell_type": "markdown",
      "source": [
        "## SSE and SSB Helper Functions"
      ],
      "metadata": {
        "id": "YYcX4EN2Stmt"
      }
    },
    {
      "cell_type": "code",
      "source": [
        "def get_cluster_centers(X, labels):\n",
        "    \"\"\"Calculates centroids for clusters.\"\"\"\n",
        "    n_clusters = len(np.unique(labels))\n",
        "    # Handle noise points in DBSCAN/OPTICS (often labeled -1)\n",
        "    if -1 in labels:\n",
        "        n_clusters -= 1\n",
        "\n",
        "    centers = []\n",
        "    for i in range(n_clusters):\n",
        "        cluster_points = X[labels == i]\n",
        "        if len(cluster_points) > 0:\n",
        "            centers.append(cluster_points.mean(axis=0))\n",
        "    return np.array(centers)\n",
        "\n",
        "def calculate_sse(X, labels, centers):\n",
        "    \"\"\"Calculates Sum of Squared Error (Cohesion).\"\"\"\n",
        "    sse = 0\n",
        "    n_clusters = len(centers)\n",
        "\n",
        "    for i in range(n_clusters):\n",
        "        cluster_points = X[labels == i]\n",
        "        if len(cluster_points) > 0:\n",
        "            distances = np.sum((cluster_points - centers[i])**2, axis=1)\n",
        "            sse += np.sum(distances)\n",
        "    return sse\n",
        "\n",
        "def calculate_ssb(X, labels, centers):\n",
        "    \"\"\"Calculates Sum of Squares Between (Separation).\"\"\"\n",
        "    ssb = 0\n",
        "    global_mean = X.mean(axis=0)\n",
        "    n_clusters = len(centers)\n",
        "\n",
        "    for i in range(n_clusters):\n",
        "        cluster_points = X[labels == i]\n",
        "        n_points = len(cluster_points)\n",
        "        if n_points > 0:\n",
        "            ssb += n_points * np.sum((centers[i] - global_mean)**2)\n",
        "    return ssb\n",
        "\n",
        "print(\"Helper functions defined.\")"
      ],
      "metadata": {
        "colab": {
          "base_uri": "https://localhost:8080/"
        },
        "id": "XfDh0M5RRWdR",
        "outputId": "4a92fcae-f37f-428d-c25d-0962c9b34436"
      },
      "execution_count": 6,
      "outputs": [
        {
          "output_type": "stream",
          "name": "stdout",
          "text": [
            "Helper functions defined.\n"
          ]
        }
      ]
    },
    {
      "cell_type": "markdown",
      "source": [
        "# Analysis: Iris Dataset"
      ],
      "metadata": {
        "id": "SIy4xDgLSyQu"
      }
    },
    {
      "cell_type": "markdown",
      "source": [
        "## Hierarchical Clustering (Dendrogram)"
      ],
      "metadata": {
        "id": "axVNA78hS2Ke"
      }
    },
    {
      "cell_type": "code",
      "source": [
        "plt.figure(figsize=(15, 7))\n",
        "plt.title(\"Iris Dataset Dendrogram (Ward Linkage)\")\n",
        "plt.xlabel(\"Sample Index\")\n",
        "plt.ylabel(\"Distance\")\n",
        "\n",
        "# Perform hierarchical clustering to get the linkage matrix\n",
        "linked_iris = linkage(X_iris_scaled, method='ward')\n",
        "\n",
        "# Plot the dendrogram\n",
        "dendrogram(linked_iris,\n",
        "           leaf_rotation=90.,  # rotates the x axis labels\n",
        "           leaf_font_size=8.,  # font size for the x axis labels\n",
        "          )\n",
        "plt.axhline(y=12, color='r', linestyle='--', label='Cut-off (k=3)')\n",
        "plt.legend()\n",
        "plt.show()"
      ],
      "metadata": {
        "colab": {
          "base_uri": "https://localhost:8080/",
          "height": 668
        },
        "id": "CGOoAVFiRZrP",
        "outputId": "bdc33959-4809-4ce8-8a81-dd1cc91b53e3"
      },
      "execution_count": 7,
      "outputs": [
        {
          "output_type": "display_data",
          "data": {
            "text/plain": [
              "<Figure size 1500x700 with 1 Axes>"
            ],
            "image/png": "[encoded data removed]"
          },
          "metadata": {}
        }
      ]
    },
    {
      "cell_type": "markdown",
      "source": [
        "## Algorithm Application and Evaluation (Iris)"
      ],
      "metadata": {
        "id": "QvXTfe17S6y7"
      }
    },
    {
      "cell_type": "code",
      "source": [
        "# We fix the random_state for reproducible results\n",
        "random_state = 42\n",
        "\n",
        "# --- Define Models ---\n",
        "models_iris = {\n",
        "    # Partition-based\n",
        "    'K-means': KMeans(n_clusters=k_iris, n_init=10, random_state=random_state),\n",
        "    'K-medoids (PAM)': KMedoids(n_clusters=k_iris, random_state=random_state),\n",
        "    'K-means++': KMeans(n_clusters=k_iris, init='k-means++', n_init=10, random_state=random_state),\n",
        "    'Bisecting K-means': BisectingKMeans(n_clusters=k_iris, n_init=10, random_state=random_state),\n",
        "\n",
        "    # Hierarchical\n",
        "    'Agglomerative': AgglomerativeClustering(n_clusters=k_iris),\n",
        "\n",
        "    # Density-based\n",
        "    'DBSCAN': DBSCAN(eps=0.8, min_samples=5),\n",
        "    'OPTICS': OPTICS(min_samples=5)\n",
        "}\n",
        "\n",
        "# --- Evaluate Models ---\n",
        "results_iris = []\n",
        "\n",
        "for name, model in models_iris.items():\n",
        "    # Fit model and get labels\n",
        "    model.fit(X_iris_scaled)\n",
        "\n",
        "    # Handle labels from different models\n",
        "    if hasattr(model, 'labels_'):\n",
        "        labels = model.labels_\n",
        "    else:\n",
        "        labels = model.predict(X_iris_scaled)\n",
        "\n",
        "    # --- Get Metrics ---\n",
        "\n",
        "    # Handle cases where DBSCAN/OPTICS find only 1 cluster or noise (-1)\n",
        "    # These metrics require at least 2 cluster labels\n",
        "    unique_labels = np.unique(labels)\n",
        "    if len(unique_labels) < 2 or (len(unique_labels) == 2 and -1 in unique_labels):\n",
        "        print(f\"Skipping internal metrics for {name}: Not enough clusters found (labels: {unique_labels}).\")\n",
        "        silhouette = np.nan\n",
        "        calinski = np.nan\n",
        "        davies = np.nan\n",
        "        sse = np.nan\n",
        "        ssb = np.nan\n",
        "    else:\n",
        "        # Internal Metrics\n",
        "        silhouette = silhouette_score(X_iris_scaled, labels)\n",
        "        calinski = calinski_harabasz_score(X_iris_scaled, labels)\n",
        "        davies = davies_bouldin_score(X_iris_scaled, labels)\n",
        "\n",
        "        # Cohesion/Separation Metrics\n",
        "        # Get centers (provided by model or calculated)\n",
        "        if hasattr(model, 'cluster_centers_'):\n",
        "            centers = model.cluster_centers_\n",
        "        else:\n",
        "            centers = get_cluster_centers(X_iris_scaled, labels)\n",
        "\n",
        "        sse = calculate_sse(X_iris_scaled, labels, centers)\n",
        "        ssb = calculate_ssb(X_iris_scaled, labels, centers)\n",
        "\n",
        "    # External Metrics (vs. y_iris)\n",
        "    # Flatten y_iris to a 1D array\n",
        "    y_iris_flat = y_iris.values.ravel()\n",
        "\n",
        "    ri = rand_score(y_iris_flat, labels)\n",
        "    ari = adjusted_rand_score(y_iris_flat, labels)\n",
        "    mi = mutual_info_score(y_iris_flat, labels)\n",
        "    ami = adjusted_mutual_info_score(y_iris_flat, labels)\n",
        "    nmi = normalized_mutual_info_score(y_iris_flat, labels)\n",
        "\n",
        "    results_iris.append({\n",
        "        'Algorithm': name,\n",
        "        'Category': 'Partition-based' if name in ['K-means', 'K-medoids (PAM)', 'K-means++', 'Bisecting K-means']\n",
        "                    else 'Hierarchical' if name == 'Agglomerative'\n",
        "                    else 'Density-based',\n",
        "        'ARI': ari,\n",
        "        'NMI': nmi,\n",
        "        'RI': ri,\n",
        "        'AMI': ami,\n",
        "        'MI': mi,\n",
        "        'Silhouette': silhouette,\n",
        "        'Calinski-Harabasz': calinski,\n",
        "        'Davies-Bouldin': davies,\n",
        "        'SSE (Cohesion)': sse,\n",
        "        'SSB (Separation)': ssb\n",
        "    })\n",
        "\n",
        "# Create DataFrame for results\n",
        "df_iris = pd.DataFrame(results_iris)"
      ],
      "metadata": {
        "id": "q4SNIc1xRcl2"
      },
      "execution_count": 8,
      "outputs": []
    },
    {
      "cell_type": "markdown",
      "source": [
        "## Performance Comparison Tables (Iris)"
      ],
      "metadata": {
        "id": "lxYSzeh2S9LN"
      }
    },
    {
      "cell_type": "markdown",
      "source": [
        "### Partition-based Clustering (Iris)"
      ],
      "metadata": {
        "id": "5LFJkwmCTIXB"
      }
    },
    {
      "cell_type": "code",
      "source": [
        "print(\"--- Iris: Partition-based Results ---\")\n",
        "df_partition_iris = df_iris[df_iris['Category'] == 'Partition-based'].set_index('Algorithm')\n",
        "# Select only numeric columns for formatting\n",
        "numeric_cols = df_partition_iris.select_dtypes(include=np.number).columns\n",
        "display(df_partition_iris.style.format({col: \"{:.3f}\" for col in numeric_cols}).background_gradient(cmap='viridis', axis=0))"
      ],
      "metadata": {
        "colab": {
          "base_uri": "https://localhost:8080/",
          "height": 224
        },
        "id": "xpJSCpPuRgI9",
        "outputId": "ce37278b-fc11-4c1c-aabc-5f8dfb16eeda"
      },
      "execution_count": 9,
      "outputs": [
        {
          "output_type": "stream",
          "name": "stdout",
          "text": [
            "--- Iris: Partition-based Results ---\n"
          ]
        },
        {
          "output_type": "display_data",
          "data": {
            "text/plain": [
              "<pandas.io.formats.style.Styler at 0x7aac9c8f8740>"
            ],
            "text/html": [
              "<style type=\"text/css\">\n",
              "#T_0110a_row0_col1, #T_0110a_row2_col1 {\n",
              "  background-color: #228b8d;\n",
              "  color: #f1f1f1;\n",
              "}\n",
              "#T_0110a_row0_col2, #T_0110a_row0_col4, #T_0110a_row2_col2, #T_0110a_row2_col4 {\n",
              "  background-color: #277f8e;\n",
              "  color: #f1f1f1;\n",
              "}\n",
              "#T_0110a_row0_col3, #T_0110a_row2_col3 {\n",
              "  background-color: #218e8d;\n",
              "  color: #f1f1f1;\n",
              "}\n",
              "#T_0110a_row0_col5, #T_0110a_row2_col5 {\n",
              "  background-color: #25848e;\n",
              "  color: #f1f1f1;\n",
              "}\n",
              "#T_0110a_row0_col6, #T_0110a_row0_col7, #T_0110a_row0_col10, #T_0110a_row1_col1, #T_0110a_row1_col2, #T_0110a_row1_col3, #T_0110a_row1_col4, #T_0110a_row1_col5, #T_0110a_row1_col8, #T_0110a_row1_col9, #T_0110a_row2_col6, #T_0110a_row2_col7, #T_0110a_row2_col10, #T_0110a_row3_col7, #T_0110a_row3_col10 {\n",
              "  background-color: #fde725;\n",
              "  color: #000000;\n",
              "}\n",
              "#T_0110a_row0_col8, #T_0110a_row0_col9, #T_0110a_row1_col6, #T_0110a_row1_col7, #T_0110a_row1_col10, #T_0110a_row2_col8, #T_0110a_row2_col9, #T_0110a_row3_col1, #T_0110a_row3_col2, #T_0110a_row3_col3, #T_0110a_row3_col4, #T_0110a_row3_col5, #T_0110a_row3_col9 {\n",
              "  background-color: #440154;\n",
              "  color: #f1f1f1;\n",
              "}\n",
              "#T_0110a_row3_col6 {\n",
              "  background-color: #26828e;\n",
              "  color: #f1f1f1;\n",
              "}\n",
              "#T_0110a_row3_col8 {\n",
              "  background-color: #481c6e;\n",
              "  color: #f1f1f1;\n",
              "}\n",
              "</style>\n",
              "<table id=\"T_0110a\" class=\"dataframe\">\n",
              "  <thead>\n",
              "    <tr>\n",
              "      <th class=\"blank level0\" >&nbsp;</th>\n",
              "      <th id=\"T_0110a_level0_col0\" class=\"col_heading level0 col0\" >Category</th>\n",
              "      <th id=\"T_0110a_level0_col1\" class=\"col_heading level0 col1\" >ARI</th>\n",
              "      <th id=\"T_0110a_level0_col2\" class=\"col_heading level0 col2\" >NMI</th>\n",
              "      <th id=\"T_0110a_level0_col3\" class=\"col_heading level0 col3\" >RI</th>\n",
              "      <th id=\"T_0110a_level0_col4\" class=\"col_heading level0 col4\" >AMI</th>\n",
              "      <th id=\"T_0110a_level0_col5\" class=\"col_heading level0 col5\" >MI</th>\n",
              "      <th id=\"T_0110a_level0_col6\" class=\"col_heading level0 col6\" >Silhouette</th>\n",
              "      <th id=\"T_0110a_level0_col7\" class=\"col_heading level0 col7\" >Calinski-Harabasz</th>\n",
              "      <th id=\"T_0110a_level0_col8\" class=\"col_heading level0 col8\" >Davies-Bouldin</th>\n",
              "      <th id=\"T_0110a_level0_col9\" class=\"col_heading level0 col9\" >SSE (Cohesion)</th>\n",
              "      <th id=\"T_0110a_level0_col10\" class=\"col_heading level0 col10\" >SSB (Separation)</th>\n",
              "    </tr>\n",
              "    <tr>\n",
              "      <th class=\"index_name level0\" >Algorithm</th>\n",
              "      <th class=\"blank col0\" >&nbsp;</th>\n",
              "      <th class=\"blank col1\" >&nbsp;</th>\n",
              "      <th class=\"blank col2\" >&nbsp;</th>\n",
              "      <th class=\"blank col3\" >&nbsp;</th>\n",
              "      <th class=\"blank col4\" >&nbsp;</th>\n",
              "      <th class=\"blank col5\" >&nbsp;</th>\n",
              "      <th class=\"blank col6\" >&nbsp;</th>\n",
              "      <th class=\"blank col7\" >&nbsp;</th>\n",
              "      <th class=\"blank col8\" >&nbsp;</th>\n",
              "      <th class=\"blank col9\" >&nbsp;</th>\n",
              "      <th class=\"blank col10\" >&nbsp;</th>\n",
              "    </tr>\n",
              "  </thead>\n",
              "  <tbody>\n",
              "    <tr>\n",
              "      <th id=\"T_0110a_level0_row0\" class=\"row_heading level0 row0\" >K-means</th>\n",
              "      <td id=\"T_0110a_row0_col0\" class=\"data row0 col0\" >Partition-based</td>\n",
              "      <td id=\"T_0110a_row0_col1\" class=\"data row0 col1\" >0.620</td>\n",
              "      <td id=\"T_0110a_row0_col2\" class=\"data row0 col2\" >0.659</td>\n",
              "      <td id=\"T_0110a_row0_col3\" class=\"data row0 col3\" >0.832</td>\n",
              "      <td id=\"T_0110a_row0_col4\" class=\"data row0 col4\" >0.655</td>\n",
              "      <td id=\"T_0110a_row0_col5\" class=\"data row0 col5\" >0.724</td>\n",
              "      <td id=\"T_0110a_row0_col6\" class=\"data row0 col6\" >0.459</td>\n",
              "      <td id=\"T_0110a_row0_col7\" class=\"data row0 col7\" >239.342</td>\n",
              "      <td id=\"T_0110a_row0_col8\" class=\"data row0 col8\" >0.835</td>\n",
              "      <td id=\"T_0110a_row0_col9\" class=\"data row0 col9\" >140.966</td>\n",
              "      <td id=\"T_0110a_row0_col10\" class=\"data row0 col10\" >459.034</td>\n",
              "    </tr>\n",
              "    <tr>\n",
              "      <th id=\"T_0110a_level0_row1\" class=\"row_heading level0 row1\" >K-medoids (PAM)</th>\n",
              "      <td id=\"T_0110a_row1_col0\" class=\"data row1 col0\" >Partition-based</td>\n",
              "      <td id=\"T_0110a_row1_col1\" class=\"data row1 col1\" >0.631</td>\n",
              "      <td id=\"T_0110a_row1_col2\" class=\"data row1 col2\" >0.669</td>\n",
              "      <td id=\"T_0110a_row1_col3\" class=\"data row1 col3\" >0.837</td>\n",
              "      <td id=\"T_0110a_row1_col4\" class=\"data row1 col4\" >0.665</td>\n",
              "      <td id=\"T_0110a_row1_col5\" class=\"data row1 col5\" >0.733</td>\n",
              "      <td id=\"T_0110a_row1_col6\" class=\"data row1 col6\" >0.458</td>\n",
              "      <td id=\"T_0110a_row1_col7\" class=\"data row1 col7\" >237.131</td>\n",
              "      <td id=\"T_0110a_row1_col8\" class=\"data row1 col8\" >0.841</td>\n",
              "      <td id=\"T_0110a_row1_col9\" class=\"data row1 col9\" >149.682</td>\n",
              "      <td id=\"T_0110a_row1_col10\" class=\"data row1 col10\" >457.667</td>\n",
              "    </tr>\n",
              "    <tr>\n",
              "      <th id=\"T_0110a_level0_row2\" class=\"row_heading level0 row2\" >K-means++</th>\n",
              "      <td id=\"T_0110a_row2_col0\" class=\"data row2 col0\" >Partition-based</td>\n",
              "      <td id=\"T_0110a_row2_col1\" class=\"data row2 col1\" >0.620</td>\n",
              "      <td id=\"T_0110a_row2_col2\" class=\"data row2 col2\" >0.659</td>\n",
              "      <td id=\"T_0110a_row2_col3\" class=\"data row2 col3\" >0.832</td>\n",
              "      <td id=\"T_0110a_row2_col4\" class=\"data row2 col4\" >0.655</td>\n",
              "      <td id=\"T_0110a_row2_col5\" class=\"data row2 col5\" >0.724</td>\n",
              "      <td id=\"T_0110a_row2_col6\" class=\"data row2 col6\" >0.459</td>\n",
              "      <td id=\"T_0110a_row2_col7\" class=\"data row2 col7\" >239.342</td>\n",
              "      <td id=\"T_0110a_row2_col8\" class=\"data row2 col8\" >0.835</td>\n",
              "      <td id=\"T_0110a_row2_col9\" class=\"data row2 col9\" >140.966</td>\n",
              "      <td id=\"T_0110a_row2_col10\" class=\"data row2 col10\" >459.034</td>\n",
              "    </tr>\n",
              "    <tr>\n",
              "      <th id=\"T_0110a_level0_row3\" class=\"row_heading level0 row3\" >Bisecting K-means</th>\n",
              "      <td id=\"T_0110a_row3_col0\" class=\"data row3 col0\" >Partition-based</td>\n",
              "      <td id=\"T_0110a_row3_col1\" class=\"data row3 col1\" >0.610</td>\n",
              "      <td id=\"T_0110a_row3_col2\" class=\"data row3 col2\" >0.653</td>\n",
              "      <td id=\"T_0110a_row3_col3\" class=\"data row3 col3\" >0.828</td>\n",
              "      <td id=\"T_0110a_row3_col4\" class=\"data row3 col4\" >0.648</td>\n",
              "      <td id=\"T_0110a_row3_col5\" class=\"data row3 col5\" >0.717</td>\n",
              "      <td id=\"T_0110a_row3_col6\" class=\"data row3 col6\" >0.458</td>\n",
              "      <td id=\"T_0110a_row3_col7\" class=\"data row3 col7\" >239.336</td>\n",
              "      <td id=\"T_0110a_row3_col8\" class=\"data row3 col8\" >0.836</td>\n",
              "      <td id=\"T_0110a_row3_col9\" class=\"data row3 col9\" >140.968</td>\n",
              "      <td id=\"T_0110a_row3_col10\" class=\"data row3 col10\" >459.032</td>\n",
              "    </tr>\n",
              "  </tbody>\n",
              "</table>\n"
            ]
          },
          "metadata": {}
        }
      ]
    },
    {
      "cell_type": "markdown",
      "source": [
        "### Hierarchical Clustering (Iris)"
      ],
      "metadata": {
        "id": "9BjzyzbpTBfL"
      }
    },
    {
      "cell_type": "code",
      "source": [
        "print(\"\\n--- Iris: Hierarchical Results ---\")\n",
        "df_hierarchical_iris = df_iris[df_iris['Category'] == 'Hierarchical'].set_index('Algorithm')\n",
        "# Select only numeric columns for formatting\n",
        "numeric_cols = df_hierarchical_iris.select_dtypes(include=np.number).columns\n",
        "display(df_hierarchical_iris.style.format({col: \"{:.3f}\" for col in numeric_cols}).background_gradient(cmap='viridis', axis=0))"
      ],
      "metadata": {
        "colab": {
          "base_uri": "https://localhost:8080/",
          "height": 148
        },
        "id": "GV1ayG0AR2fY",
        "outputId": "35c6e2b7-f860-4a49-850c-cd86c190a017"
      },
      "execution_count": 10,
      "outputs": [
        {
          "output_type": "stream",
          "name": "stdout",
          "text": [
            "\n",
            "--- Iris: Hierarchical Results ---\n"
          ]
        },
        {
          "output_type": "display_data",
          "data": {
            "text/plain": [
              "<pandas.io.formats.style.Styler at 0x7aac9d0f02f0>"
            ],
            "text/html": [
              "<style type=\"text/css\">\n",
              "#T_097bc_row0_col1, #T_097bc_row0_col2, #T_097bc_row0_col3, #T_097bc_row0_col4, #T_097bc_row0_col5, #T_097bc_row0_col6, #T_097bc_row0_col7, #T_097bc_row0_col8, #T_097bc_row0_col9, #T_097bc_row0_col10 {\n",
              "  background-color: #440154;\n",
              "  color: #f1f1f1;\n",
              "}\n",
              "</style>\n",
              "<table id=\"T_097bc\" class=\"dataframe\">\n",
              "  <thead>\n",
              "    <tr>\n",
              "      <th class=\"blank level0\" >&nbsp;</th>\n",
              "      <th id=\"T_097bc_level0_col0\" class=\"col_heading level0 col0\" >Category</th>\n",
              "      <th id=\"T_097bc_level0_col1\" class=\"col_heading level0 col1\" >ARI</th>\n",
              "      <th id=\"T_097bc_level0_col2\" class=\"col_heading level0 col2\" >NMI</th>\n",
              "      <th id=\"T_097bc_level0_col3\" class=\"col_heading level0 col3\" >RI</th>\n",
              "      <th id=\"T_097bc_level0_col4\" class=\"col_heading level0 col4\" >AMI</th>\n",
              "      <th id=\"T_097bc_level0_col5\" class=\"col_heading level0 col5\" >MI</th>\n",
              "      <th id=\"T_097bc_level0_col6\" class=\"col_heading level0 col6\" >Silhouette</th>\n",
              "      <th id=\"T_097bc_level0_col7\" class=\"col_heading level0 col7\" >Calinski-Harabasz</th>\n",
              "      <th id=\"T_097bc_level0_col8\" class=\"col_heading level0 col8\" >Davies-Bouldin</th>\n",
              "      <th id=\"T_097bc_level0_col9\" class=\"col_heading level0 col9\" >SSE (Cohesion)</th>\n",
              "      <th id=\"T_097bc_level0_col10\" class=\"col_heading level0 col10\" >SSB (Separation)</th>\n",
              "    </tr>\n",
              "    <tr>\n",
              "      <th class=\"index_name level0\" >Algorithm</th>\n",
              "      <th class=\"blank col0\" >&nbsp;</th>\n",
              "      <th class=\"blank col1\" >&nbsp;</th>\n",
              "      <th class=\"blank col2\" >&nbsp;</th>\n",
              "      <th class=\"blank col3\" >&nbsp;</th>\n",
              "      <th class=\"blank col4\" >&nbsp;</th>\n",
              "      <th class=\"blank col5\" >&nbsp;</th>\n",
              "      <th class=\"blank col6\" >&nbsp;</th>\n",
              "      <th class=\"blank col7\" >&nbsp;</th>\n",
              "      <th class=\"blank col8\" >&nbsp;</th>\n",
              "      <th class=\"blank col9\" >&nbsp;</th>\n",
              "      <th class=\"blank col10\" >&nbsp;</th>\n",
              "    </tr>\n",
              "  </thead>\n",
              "  <tbody>\n",
              "    <tr>\n",
              "      <th id=\"T_097bc_level0_row0\" class=\"row_heading level0 row0\" >Agglomerative</th>\n",
              "      <td id=\"T_097bc_row0_col0\" class=\"data row0 col0\" >Hierarchical</td>\n",
              "      <td id=\"T_097bc_row0_col1\" class=\"data row0 col1\" >0.615</td>\n",
              "      <td id=\"T_097bc_row0_col2\" class=\"data row0 col2\" >0.675</td>\n",
              "      <td id=\"T_097bc_row0_col3\" class=\"data row0 col3\" >0.825</td>\n",
              "      <td id=\"T_097bc_row0_col4\" class=\"data row0 col4\" >0.671</td>\n",
              "      <td id=\"T_097bc_row0_col5\" class=\"data row0 col5\" >0.723</td>\n",
              "      <td id=\"T_097bc_row0_col6\" class=\"data row0 col6\" >0.446</td>\n",
              "      <td id=\"T_097bc_row0_col7\" class=\"data row0 col7\" >220.260</td>\n",
              "      <td id=\"T_097bc_row0_col8\" class=\"data row0 col8\" >0.806</td>\n",
              "      <td id=\"T_097bc_row0_col9\" class=\"data row0 col9\" >150.122</td>\n",
              "      <td id=\"T_097bc_row0_col10\" class=\"data row0 col10\" >449.878</td>\n",
              "    </tr>\n",
              "  </tbody>\n",
              "</table>\n"
            ]
          },
          "metadata": {}
        }
      ]
    },
    {
      "cell_type": "markdown",
      "source": [
        "### Density-based Clustering (Iris)"
      ],
      "metadata": {
        "id": "-hsrlvzPTScl"
      }
    },
    {
      "cell_type": "code",
      "source": [
        "print(\"\\n--- Iris: Density-based Results ---\")\n",
        "df_density_iris = df_iris[df_iris['Category'] == 'Density-based'].set_index('Algorithm')\n",
        "# Select only numeric columns for formatting\n",
        "numeric_cols = df_density_iris.select_dtypes(include=np.number).columns\n",
        "display(df_density_iris.style.format({col: \"{:.3f}\" for col in numeric_cols}).background_gradient(cmap='viridis', axis=0))"
      ],
      "metadata": {
        "colab": {
          "base_uri": "https://localhost:8080/",
          "height": 179
        },
        "id": "VAAhnTUBSB8Y",
        "outputId": "4946c5ff-e54b-4d35-969e-badf891b8102"
      },
      "execution_count": 11,
      "outputs": [
        {
          "output_type": "stream",
          "name": "stdout",
          "text": [
            "\n",
            "--- Iris: Density-based Results ---\n"
          ]
        },
        {
          "output_type": "display_data",
          "data": {
            "text/plain": [
              "<pandas.io.formats.style.Styler at 0x7aac9d0eb9b0>"
            ],
            "text/html": [
              "<style type=\"text/css\">\n",
              "#T_6d492_row0_col1, #T_6d492_row0_col2, #T_6d492_row0_col3, #T_6d492_row0_col4, #T_6d492_row0_col5, #T_6d492_row0_col6, #T_6d492_row0_col7, #T_6d492_row0_col9, #T_6d492_row0_col10, #T_6d492_row1_col8 {\n",
              "  background-color: #fde725;\n",
              "  color: #000000;\n",
              "}\n",
              "#T_6d492_row0_col8, #T_6d492_row1_col1, #T_6d492_row1_col2, #T_6d492_row1_col3, #T_6d492_row1_col4, #T_6d492_row1_col5, #T_6d492_row1_col6, #T_6d492_row1_col7, #T_6d492_row1_col9, #T_6d492_row1_col10 {\n",
              "  background-color: #440154;\n",
              "  color: #f1f1f1;\n",
              "}\n",
              "</style>\n",
              "<table id=\"T_6d492\" class=\"dataframe\">\n",
              "  <thead>\n",
              "    <tr>\n",
              "      <th class=\"blank level0\" >&nbsp;</th>\n",
              "      <th id=\"T_6d492_level0_col0\" class=\"col_heading level0 col0\" >Category</th>\n",
              "      <th id=\"T_6d492_level0_col1\" class=\"col_heading level0 col1\" >ARI</th>\n",
              "      <th id=\"T_6d492_level0_col2\" class=\"col_heading level0 col2\" >NMI</th>\n",
              "      <th id=\"T_6d492_level0_col3\" class=\"col_heading level0 col3\" >RI</th>\n",
              "      <th id=\"T_6d492_level0_col4\" class=\"col_heading level0 col4\" >AMI</th>\n",
              "      <th id=\"T_6d492_level0_col5\" class=\"col_heading level0 col5\" >MI</th>\n",
              "      <th id=\"T_6d492_level0_col6\" class=\"col_heading level0 col6\" >Silhouette</th>\n",
              "      <th id=\"T_6d492_level0_col7\" class=\"col_heading level0 col7\" >Calinski-Harabasz</th>\n",
              "      <th id=\"T_6d492_level0_col8\" class=\"col_heading level0 col8\" >Davies-Bouldin</th>\n",
              "      <th id=\"T_6d492_level0_col9\" class=\"col_heading level0 col9\" >SSE (Cohesion)</th>\n",
              "      <th id=\"T_6d492_level0_col10\" class=\"col_heading level0 col10\" >SSB (Separation)</th>\n",
              "    </tr>\n",
              "    <tr>\n",
              "      <th class=\"index_name level0\" >Algorithm</th>\n",
              "      <th class=\"blank col0\" >&nbsp;</th>\n",
              "      <th class=\"blank col1\" >&nbsp;</th>\n",
              "      <th class=\"blank col2\" >&nbsp;</th>\n",
              "      <th class=\"blank col3\" >&nbsp;</th>\n",
              "      <th class=\"blank col4\" >&nbsp;</th>\n",
              "      <th class=\"blank col5\" >&nbsp;</th>\n",
              "      <th class=\"blank col6\" >&nbsp;</th>\n",
              "      <th class=\"blank col7\" >&nbsp;</th>\n",
              "      <th class=\"blank col8\" >&nbsp;</th>\n",
              "      <th class=\"blank col9\" >&nbsp;</th>\n",
              "      <th class=\"blank col10\" >&nbsp;</th>\n",
              "    </tr>\n",
              "  </thead>\n",
              "  <tbody>\n",
              "    <tr>\n",
              "      <th id=\"T_6d492_level0_row0\" class=\"row_heading level0 row0\" >DBSCAN</th>\n",
              "      <td id=\"T_6d492_row0_col0\" class=\"data row0 col0\" >Density-based</td>\n",
              "      <td id=\"T_6d492_row0_col1\" class=\"data row0 col1\" >0.552</td>\n",
              "      <td id=\"T_6d492_row0_col2\" class=\"data row0 col2\" >0.690</td>\n",
              "      <td id=\"T_6d492_row0_col3\" class=\"data row0 col3\" >0.772</td>\n",
              "      <td id=\"T_6d492_row0_col4\" class=\"data row0 col4\" >0.685</td>\n",
              "      <td id=\"T_6d492_row0_col5\" class=\"data row0 col5\" >0.636</td>\n",
              "      <td id=\"T_6d492_row0_col6\" class=\"data row0 col6\" >0.521</td>\n",
              "      <td id=\"T_6d492_row0_col7\" class=\"data row0 col7\" >124.986</td>\n",
              "      <td id=\"T_6d492_row0_col8\" class=\"data row0 col8\" >1.940</td>\n",
              "      <td id=\"T_6d492_row0_col9\" class=\"data row0 col9\" >191.394</td>\n",
              "      <td id=\"T_6d492_row0_col10\" class=\"data row0 col10\" >365.435</td>\n",
              "    </tr>\n",
              "    <tr>\n",
              "      <th id=\"T_6d492_level0_row1\" class=\"row_heading level0 row1\" >OPTICS</th>\n",
              "      <td id=\"T_6d492_row1_col0\" class=\"data row1 col0\" >Density-based</td>\n",
              "      <td id=\"T_6d492_row1_col1\" class=\"data row1 col1\" >0.051</td>\n",
              "      <td id=\"T_6d492_row1_col2\" class=\"data row1 col2\" >0.292</td>\n",
              "      <td id=\"T_6d492_row1_col3\" class=\"data row1 col3\" >0.512</td>\n",
              "      <td id=\"T_6d492_row1_col4\" class=\"data row1 col4\" >0.266</td>\n",
              "      <td id=\"T_6d492_row1_col5\" class=\"data row1 col5\" >0.308</td>\n",
              "      <td id=\"T_6d492_row1_col6\" class=\"data row1 col6\" >-0.298</td>\n",
              "      <td id=\"T_6d492_row1_col7\" class=\"data row1 col7\" >8.227</td>\n",
              "      <td id=\"T_6d492_row1_col8\" class=\"data row1 col8\" >2.451</td>\n",
              "      <td id=\"T_6d492_row1_col9\" class=\"data row1 col9\" >3.628</td>\n",
              "      <td id=\"T_6d492_row1_col10\" class=\"data row1 col10\" >128.626</td>\n",
              "    </tr>\n",
              "  </tbody>\n",
              "</table>\n"
            ]
          },
          "metadata": {}
        }
      ]
    },
    {
      "cell_type": "markdown",
      "source": [
        "# Analysis: Wine Dataset"
      ],
      "metadata": {
        "id": "8cSksC2hTYSA"
      }
    },
    {
      "cell_type": "markdown",
      "source": [
        "## Hierarchical Clustering (Dendrogram)"
      ],
      "metadata": {
        "id": "NC18UOkTTZzg"
      }
    },
    {
      "cell_type": "code",
      "source": [
        "plt.figure(figsize=(15, 7))\n",
        "plt.title(\"Wine Dataset Dendrogram (Ward Linkage)\")\n",
        "plt.xlabel(\"Sample Index\")\n",
        "plt.ylabel(\"Distance\")\n",
        "\n",
        "# Perform hierarchical clustering\n",
        "linked_wine = linkage(X_wine_scaled, method='ward')\n",
        "\n",
        "# Plot the dendrogram\n",
        "dendrogram(linked_wine,\n",
        "           leaf_rotation=90.,\n",
        "           leaf_font_size=8.,\n",
        "          )\n",
        "plt.axhline(y=18, color='r', linestyle='--', label='Cut-off (k=3)')\n",
        "plt.legend()\n",
        "plt.show()"
      ],
      "metadata": {
        "colab": {
          "base_uri": "https://localhost:8080/",
          "height": 620
        },
        "id": "HO5wkHIUSPRO",
        "outputId": "1c799f35-82a0-43f7-c4aa-d6e76d6a01d3"
      },
      "execution_count": 12,
      "outputs": [
        {
          "output_type": "display_data",
          "data": {
            "text/plain": [
              "<Figure size 1500x700 with 1 Axes>"
            ],
            "image/png": "[encoded data removed]"
          },
          "metadata": {}
        }
      ]
    },
    {
      "cell_type": "markdown",
      "source": [
        "## Algorithm Application and Evaluation (Wine)"
      ],
      "metadata": {
        "id": "a4EtncQxTiUT"
      }
    },
    {
      "cell_type": "code",
      "source": [
        "# --- Define Models ---\n",
        "models_wine = {\n",
        "    # Partition-based\n",
        "    'K-means': KMeans(n_clusters=k_wine, n_init=10, random_state=random_state),\n",
        "    'K-medoids (PAM)': KMedoids(n_clusters=k_wine, random_state=random_state),\n",
        "    'K-means++': KMeans(n_clusters=k_wine, init='k-means++', n_init=10, random_state=random_state),\n",
        "    'Bisecting K-means': BisectingKMeans(n_clusters=k_wine, n_init=10, random_state=random_state),\n",
        "\n",
        "    # Hierarchical\n",
        "    'Agglomerative': AgglomerativeClustering(n_clusters=k_wine),\n",
        "\n",
        "    # Density-based\n",
        "    'DBSCAN': DBSCAN(eps=1.5, min_samples=5),\n",
        "    'OPTICS': OPTICS(min_samples=5, xi=0.03) # Tuned xi for cluster extraction\n",
        "}\n",
        "\n",
        "# --- Evaluate Models ---\n",
        "results_wine = []\n",
        "\n",
        "for name, model in models_wine.items():\n",
        "    # Fit model and get labels\n",
        "    model.fit(X_wine_scaled)\n",
        "\n",
        "    if hasattr(model, 'labels_'):\n",
        "        labels = model.labels_\n",
        "    else:\n",
        "        labels = model.predict(X_wine_scaled)\n",
        "\n",
        "    # --- Get Metrics ---\n",
        "    unique_labels = np.unique(labels)\n",
        "    if len(unique_labels) < 2 or (len(unique_labels) == 2 and -1 in unique_labels):\n",
        "        print(f\"Skipping internal metrics for {name}: Not enough clusters found (labels: {unique_labels}).\")\n",
        "        silhouette = np.nan\n",
        "        calinski = np.nan\n",
        "        davies = np.nan\n",
        "        sse = np.nan\n",
        "        ssb = np.nan\n",
        "    else:\n",
        "        # Internal Metrics\n",
        "        silhouette = silhouette_score(X_wine_scaled, labels)\n",
        "        calinski = calinski_harabasz_score(X_wine_scaled, labels)\n",
        "        davies = davies_bouldin_score(X_wine_scaled, labels)\n",
        "\n",
        "        # Cohesion/Separation\n",
        "        if hasattr(model, 'cluster_centers_'):\n",
        "            centers = model.cluster_centers_\n",
        "        else:\n",
        "            centers = get_cluster_centers(X_wine_scaled, labels)\n",
        "\n",
        "        sse = calculate_sse(X_wine_scaled, labels, centers)\n",
        "        ssb = calculate_ssb(X_wine_scaled, labels, centers)\n",
        "\n",
        "    # External Metrics\n",
        "    # Flatten y_wine to a 1D array\n",
        "    y_wine_flat = y_wine.values.ravel()\n",
        "\n",
        "    ri = rand_score(y_wine_flat, labels)\n",
        "    ari = adjusted_rand_score(y_wine_flat, labels)\n",
        "    mi = mutual_info_score(y_wine_flat, labels)\n",
        "    ami = adjusted_mutual_info_score(y_wine_flat, labels)\n",
        "    nmi = normalized_mutual_info_score(y_wine_flat, labels)\n",
        "\n",
        "    results_wine.append({\n",
        "        'Algorithm': name,\n",
        "        'Category': 'Partition-based' if name in ['K-means', 'K-medoids (PAM)', 'K-means++', 'Bisecting K-means']\n",
        "                    else 'Hierarchical' if name == 'Agglomerative'\n",
        "                    else 'Density-based',\n",
        "        'ARI': ari,\n",
        "        'NMI': nmi,\n",
        "        'RI': ri,\n",
        "        'AMI': ami,\n",
        "        'MI': mi,\n",
        "        'Silhouette': silhouette,\n",
        "        'Calinski-Harabasz': calinski,\n",
        "        'Davies-Bouldin': davies,\n",
        "        'SSE (Cohesion)': sse,\n",
        "        'SSB (Separation)': ssb\n",
        "    })\n",
        "\n",
        "# Create DataFrame for results\n",
        "df_wine = pd.DataFrame(results_wine)"
      ],
      "metadata": {
        "colab": {
          "base_uri": "https://localhost:8080/"
        },
        "id": "1TydTK8rTfz0",
        "outputId": "1f194af1-f17c-49af-c1fa-af63a6df0cc5"
      },
      "execution_count": 13,
      "outputs": [
        {
          "output_type": "stream",
          "name": "stdout",
          "text": [
            "Skipping internal metrics for DBSCAN: Not enough clusters found (labels: [-1]).\n"
          ]
        }
      ]
    },
    {
      "cell_type": "markdown",
      "source": [
        "## Performance Comparison Tables (Wine)"
      ],
      "metadata": {
        "id": "WsFMeAqMTwWv"
      }
    },
    {
      "cell_type": "markdown",
      "source": [
        "### Partition-based Clustering (Wine)"
      ],
      "metadata": {
        "id": "PumEkJ3ST2VD"
      }
    },
    {
      "cell_type": "code",
      "source": [
        "print(\"--- Wine: Partition-based Results ---\")\n",
        "df_partition_wine = df_wine[df_wine['Category'] == 'Partition-based'].set_index('Algorithm')\n",
        "# Select only numeric columns for formatting\n",
        "numeric_cols = df_partition_wine.select_dtypes(include=np.number).columns\n",
        "display(df_partition_wine.style.format({col: \"{:.3f}\" for col in numeric_cols}).background_gradient(cmap='viridis', axis=0))"
      ],
      "metadata": {
        "colab": {
          "base_uri": "https://localhost:8080/",
          "height": 224
        },
        "id": "bJsZQrnUUAzZ",
        "outputId": "0cc3cd00-a4cf-4cfa-8209-05635df66cef"
      },
      "execution_count": 14,
      "outputs": [
        {
          "output_type": "stream",
          "name": "stdout",
          "text": [
            "--- Wine: Partition-based Results ---\n"
          ]
        },
        {
          "output_type": "display_data",
          "data": {
            "text/plain": [
              "<pandas.io.formats.style.Styler at 0x7aac9d286030>"
            ],
            "text/html": [
              "<style type=\"text/css\">\n",
              "#T_0cf3b_row0_col1, #T_0cf3b_row0_col2, #T_0cf3b_row0_col3, #T_0cf3b_row0_col4, #T_0cf3b_row0_col5, #T_0cf3b_row0_col6, #T_0cf3b_row0_col7, #T_0cf3b_row1_col9, #T_0cf3b_row1_col10, #T_0cf3b_row2_col1, #T_0cf3b_row2_col2, #T_0cf3b_row2_col3, #T_0cf3b_row2_col4, #T_0cf3b_row2_col5, #T_0cf3b_row2_col6, #T_0cf3b_row2_col7, #T_0cf3b_row3_col8 {\n",
              "  background-color: #fde725;\n",
              "  color: #000000;\n",
              "}\n",
              "#T_0cf3b_row0_col8, #T_0cf3b_row0_col9, #T_0cf3b_row1_col6, #T_0cf3b_row2_col8, #T_0cf3b_row2_col9, #T_0cf3b_row3_col1, #T_0cf3b_row3_col2, #T_0cf3b_row3_col3, #T_0cf3b_row3_col4, #T_0cf3b_row3_col5, #T_0cf3b_row3_col7, #T_0cf3b_row3_col10 {\n",
              "  background-color: #440154;\n",
              "  color: #f1f1f1;\n",
              "}\n",
              "#T_0cf3b_row0_col10, #T_0cf3b_row2_col10 {\n",
              "  background-color: #46337f;\n",
              "  color: #f1f1f1;\n",
              "}\n",
              "#T_0cf3b_row1_col1, #T_0cf3b_row1_col2, #T_0cf3b_row1_col4 {\n",
              "  background-color: #482677;\n",
              "  color: #f1f1f1;\n",
              "}\n",
              "#T_0cf3b_row1_col3 {\n",
              "  background-color: #482475;\n",
              "  color: #f1f1f1;\n",
              "}\n",
              "#T_0cf3b_row1_col5 {\n",
              "  background-color: #482071;\n",
              "  color: #f1f1f1;\n",
              "}\n",
              "#T_0cf3b_row1_col7 {\n",
              "  background-color: #481d6f;\n",
              "  color: #f1f1f1;\n",
              "}\n",
              "#T_0cf3b_row1_col8 {\n",
              "  background-color: #3bbb75;\n",
              "  color: #f1f1f1;\n",
              "}\n",
              "#T_0cf3b_row3_col6 {\n",
              "  background-color: #482374;\n",
              "  color: #f1f1f1;\n",
              "}\n",
              "#T_0cf3b_row3_col9 {\n",
              "  background-color: #472e7c;\n",
              "  color: #f1f1f1;\n",
              "}\n",
              "</style>\n",
              "<table id=\"T_0cf3b\" class=\"dataframe\">\n",
              "  <thead>\n",
              "    <tr>\n",
              "      <th class=\"blank level0\" >&nbsp;</th>\n",
              "      <th id=\"T_0cf3b_level0_col0\" class=\"col_heading level0 col0\" >Category</th>\n",
              "      <th id=\"T_0cf3b_level0_col1\" class=\"col_heading level0 col1\" >ARI</th>\n",
              "      <th id=\"T_0cf3b_level0_col2\" class=\"col_heading level0 col2\" >NMI</th>\n",
              "      <th id=\"T_0cf3b_level0_col3\" class=\"col_heading level0 col3\" >RI</th>\n",
              "      <th id=\"T_0cf3b_level0_col4\" class=\"col_heading level0 col4\" >AMI</th>\n",
              "      <th id=\"T_0cf3b_level0_col5\" class=\"col_heading level0 col5\" >MI</th>\n",
              "      <th id=\"T_0cf3b_level0_col6\" class=\"col_heading level0 col6\" >Silhouette</th>\n",
              "      <th id=\"T_0cf3b_level0_col7\" class=\"col_heading level0 col7\" >Calinski-Harabasz</th>\n",
              "      <th id=\"T_0cf3b_level0_col8\" class=\"col_heading level0 col8\" >Davies-Bouldin</th>\n",
              "      <th id=\"T_0cf3b_level0_col9\" class=\"col_heading level0 col9\" >SSE (Cohesion)</th>\n",
              "      <th id=\"T_0cf3b_level0_col10\" class=\"col_heading level0 col10\" >SSB (Separation)</th>\n",
              "    </tr>\n",
              "    <tr>\n",
              "      <th class=\"index_name level0\" >Algorithm</th>\n",
              "      <th class=\"blank col0\" >&nbsp;</th>\n",
              "      <th class=\"blank col1\" >&nbsp;</th>\n",
              "      <th class=\"blank col2\" >&nbsp;</th>\n",
              "      <th class=\"blank col3\" >&nbsp;</th>\n",
              "      <th class=\"blank col4\" >&nbsp;</th>\n",
              "      <th class=\"blank col5\" >&nbsp;</th>\n",
              "      <th class=\"blank col6\" >&nbsp;</th>\n",
              "      <th class=\"blank col7\" >&nbsp;</th>\n",
              "      <th class=\"blank col8\" >&nbsp;</th>\n",
              "      <th class=\"blank col9\" >&nbsp;</th>\n",
              "      <th class=\"blank col10\" >&nbsp;</th>\n",
              "    </tr>\n",
              "  </thead>\n",
              "  <tbody>\n",
              "    <tr>\n",
              "      <th id=\"T_0cf3b_level0_row0\" class=\"row_heading level0 row0\" >K-means</th>\n",
              "      <td id=\"T_0cf3b_row0_col0\" class=\"data row0 col0\" >Partition-based</td>\n",
              "      <td id=\"T_0cf3b_row0_col1\" class=\"data row0 col1\" >0.897</td>\n",
              "      <td id=\"T_0cf3b_row0_col2\" class=\"data row0 col2\" >0.876</td>\n",
              "      <td id=\"T_0cf3b_row0_col3\" class=\"data row0 col3\" >0.954</td>\n",
              "      <td id=\"T_0cf3b_row0_col4\" class=\"data row0 col4\" >0.875</td>\n",
              "      <td id=\"T_0cf3b_row0_col5\" class=\"data row0 col5\" >0.954</td>\n",
              "      <td id=\"T_0cf3b_row0_col6\" class=\"data row0 col6\" >0.285</td>\n",
              "      <td id=\"T_0cf3b_row0_col7\" class=\"data row0 col7\" >70.940</td>\n",
              "      <td id=\"T_0cf3b_row0_col8\" class=\"data row0 col8\" >1.389</td>\n",
              "      <td id=\"T_0cf3b_row0_col9\" class=\"data row0 col9\" >1277.928</td>\n",
              "      <td id=\"T_0cf3b_row0_col10\" class=\"data row0 col10\" >1036.072</td>\n",
              "    </tr>\n",
              "    <tr>\n",
              "      <th id=\"T_0cf3b_level0_row1\" class=\"row_heading level0 row1\" >K-medoids (PAM)</th>\n",
              "      <td id=\"T_0cf3b_row1_col0\" class=\"data row1 col0\" >Partition-based</td>\n",
              "      <td id=\"T_0cf3b_row1_col1\" class=\"data row1 col1\" >0.726</td>\n",
              "      <td id=\"T_0cf3b_row1_col2\" class=\"data row1 col2\" >0.757</td>\n",
              "      <td id=\"T_0cf3b_row1_col3\" class=\"data row1 col3\" >0.877</td>\n",
              "      <td id=\"T_0cf3b_row1_col4\" class=\"data row1 col4\" >0.754</td>\n",
              "      <td id=\"T_0cf3b_row1_col5\" class=\"data row1 col5\" >0.821</td>\n",
              "      <td id=\"T_0cf3b_row1_col6\" class=\"data row1 col6\" >0.266</td>\n",
              "      <td id=\"T_0cf3b_row1_col7\" class=\"data row1 col7\" >66.752</td>\n",
              "      <td id=\"T_0cf3b_row1_col8\" class=\"data row1 col8\" >1.416</td>\n",
              "      <td id=\"T_0cf3b_row1_col9\" class=\"data row1 col9\" >1564.606</td>\n",
              "      <td id=\"T_0cf3b_row1_col10\" class=\"data row1 col10\" >1258.524</td>\n",
              "    </tr>\n",
              "    <tr>\n",
              "      <th id=\"T_0cf3b_level0_row2\" class=\"row_heading level0 row2\" >K-means++</th>\n",
              "      <td id=\"T_0cf3b_row2_col0\" class=\"data row2 col0\" >Partition-based</td>\n",
              "      <td id=\"T_0cf3b_row2_col1\" class=\"data row2 col1\" >0.897</td>\n",
              "      <td id=\"T_0cf3b_row2_col2\" class=\"data row2 col2\" >0.876</td>\n",
              "      <td id=\"T_0cf3b_row2_col3\" class=\"data row2 col3\" >0.954</td>\n",
              "      <td id=\"T_0cf3b_row2_col4\" class=\"data row2 col4\" >0.875</td>\n",
              "      <td id=\"T_0cf3b_row2_col5\" class=\"data row2 col5\" >0.954</td>\n",
              "      <td id=\"T_0cf3b_row2_col6\" class=\"data row2 col6\" >0.285</td>\n",
              "      <td id=\"T_0cf3b_row2_col7\" class=\"data row2 col7\" >70.940</td>\n",
              "      <td id=\"T_0cf3b_row2_col8\" class=\"data row2 col8\" >1.389</td>\n",
              "      <td id=\"T_0cf3b_row2_col9\" class=\"data row2 col9\" >1277.928</td>\n",
              "      <td id=\"T_0cf3b_row2_col10\" class=\"data row2 col10\" >1036.072</td>\n",
              "    </tr>\n",
              "    <tr>\n",
              "      <th id=\"T_0cf3b_level0_row3\" class=\"row_heading level0 row3\" >Bisecting K-means</th>\n",
              "      <td id=\"T_0cf3b_row3_col0\" class=\"data row3 col0\" >Partition-based</td>\n",
              "      <td id=\"T_0cf3b_row3_col1\" class=\"data row3 col1\" >0.706</td>\n",
              "      <td id=\"T_0cf3b_row3_col2\" class=\"data row3 col2\" >0.742</td>\n",
              "      <td id=\"T_0cf3b_row3_col3\" class=\"data row3 col3\" >0.869</td>\n",
              "      <td id=\"T_0cf3b_row3_col4\" class=\"data row3 col4\" >0.739</td>\n",
              "      <td id=\"T_0cf3b_row3_col5\" class=\"data row3 col5\" >0.809</td>\n",
              "      <td id=\"T_0cf3b_row3_col6\" class=\"data row3 col6\" >0.268</td>\n",
              "      <td id=\"T_0cf3b_row3_col7\" class=\"data row3 col7\" >66.395</td>\n",
              "      <td id=\"T_0cf3b_row3_col8\" class=\"data row3 col8\" >1.429</td>\n",
              "      <td id=\"T_0cf3b_row3_col9\" class=\"data row3 col9\" >1315.673</td>\n",
              "      <td id=\"T_0cf3b_row3_col10\" class=\"data row3 col10\" >998.327</td>\n",
              "    </tr>\n",
              "  </tbody>\n",
              "</table>\n"
            ]
          },
          "metadata": {}
        }
      ]
    },
    {
      "cell_type": "markdown",
      "source": [
        "### Hierarchical Clustering (Wine)"
      ],
      "metadata": {
        "id": "_RRQbMpOT4Np"
      }
    },
    {
      "cell_type": "code",
      "source": [
        "print(\"\\n--- Wine: Hierarchical Results ---\")\n",
        "df_hierarchical_wine = df_wine[df_wine['Category'] == 'Hierarchical'].set_index('Algorithm')\n",
        "# Select only numeric columns for formatting\n",
        "numeric_cols = df_hierarchical_wine.select_dtypes(include=np.number).columns\n",
        "display(df_hierarchical_wine.style.format({col: \"{:.3f}\" for col in numeric_cols}).background_gradient(cmap='viridis', axis=0))"
      ],
      "metadata": {
        "colab": {
          "base_uri": "https://localhost:8080/",
          "height": 148
        },
        "id": "4aGIujrBUCJu",
        "outputId": "8afaedd4-f208-467b-ecfd-bc4390bbc913"
      },
      "execution_count": 15,
      "outputs": [
        {
          "output_type": "stream",
          "name": "stdout",
          "text": [
            "\n",
            "--- Wine: Hierarchical Results ---\n"
          ]
        },
        {
          "output_type": "display_data",
          "data": {
            "text/plain": [
              "<pandas.io.formats.style.Styler at 0x7aac986043b0>"
            ],
            "text/html": [
              "<style type=\"text/css\">\n",
              "#T_81744_row0_col1, #T_81744_row0_col2, #T_81744_row0_col3, #T_81744_row0_col4, #T_81744_row0_col5, #T_81744_row0_col6, #T_81744_row0_col7, #T_81744_row0_col8, #T_81744_row0_col9, #T_81744_row0_col10 {\n",
              "  background-color: #440154;\n",
              "  color: #f1f1f1;\n",
              "}\n",
              "</style>\n",
              "<table id=\"T_81744\" class=\"dataframe\">\n",
              "  <thead>\n",
              "    <tr>\n",
              "      <th class=\"blank level0\" >&nbsp;</th>\n",
              "      <th id=\"T_81744_level0_col0\" class=\"col_heading level0 col0\" >Category</th>\n",
              "      <th id=\"T_81744_level0_col1\" class=\"col_heading level0 col1\" >ARI</th>\n",
              "      <th id=\"T_81744_level0_col2\" class=\"col_heading level0 col2\" >NMI</th>\n",
              "      <th id=\"T_81744_level0_col3\" class=\"col_heading level0 col3\" >RI</th>\n",
              "      <th id=\"T_81744_level0_col4\" class=\"col_heading level0 col4\" >AMI</th>\n",
              "      <th id=\"T_81744_level0_col5\" class=\"col_heading level0 col5\" >MI</th>\n",
              "      <th id=\"T_81744_level0_col6\" class=\"col_heading level0 col6\" >Silhouette</th>\n",
              "      <th id=\"T_81744_level0_col7\" class=\"col_heading level0 col7\" >Calinski-Harabasz</th>\n",
              "      <th id=\"T_81744_level0_col8\" class=\"col_heading level0 col8\" >Davies-Bouldin</th>\n",
              "      <th id=\"T_81744_level0_col9\" class=\"col_heading level0 col9\" >SSE (Cohesion)</th>\n",
              "      <th id=\"T_81744_level0_col10\" class=\"col_heading level0 col10\" >SSB (Separation)</th>\n",
              "    </tr>\n",
              "    <tr>\n",
              "      <th class=\"index_name level0\" >Algorithm</th>\n",
              "      <th class=\"blank col0\" >&nbsp;</th>\n",
              "      <th class=\"blank col1\" >&nbsp;</th>\n",
              "      <th class=\"blank col2\" >&nbsp;</th>\n",
              "      <th class=\"blank col3\" >&nbsp;</th>\n",
              "      <th class=\"blank col4\" >&nbsp;</th>\n",
              "      <th class=\"blank col5\" >&nbsp;</th>\n",
              "      <th class=\"blank col6\" >&nbsp;</th>\n",
              "      <th class=\"blank col7\" >&nbsp;</th>\n",
              "      <th class=\"blank col8\" >&nbsp;</th>\n",
              "      <th class=\"blank col9\" >&nbsp;</th>\n",
              "      <th class=\"blank col10\" >&nbsp;</th>\n",
              "    </tr>\n",
              "  </thead>\n",
              "  <tbody>\n",
              "    <tr>\n",
              "      <th id=\"T_81744_level0_row0\" class=\"row_heading level0 row0\" >Agglomerative</th>\n",
              "      <td id=\"T_81744_row0_col0\" class=\"data row0 col0\" >Hierarchical</td>\n",
              "      <td id=\"T_81744_row0_col1\" class=\"data row0 col1\" >0.790</td>\n",
              "      <td id=\"T_81744_row0_col2\" class=\"data row0 col2\" >0.786</td>\n",
              "      <td id=\"T_81744_row0_col3\" class=\"data row0 col3\" >0.906</td>\n",
              "      <td id=\"T_81744_row0_col4\" class=\"data row0 col4\" >0.784</td>\n",
              "      <td id=\"T_81744_row0_col5\" class=\"data row0 col5\" >0.858</td>\n",
              "      <td id=\"T_81744_row0_col6\" class=\"data row0 col6\" >0.277</td>\n",
              "      <td id=\"T_81744_row0_col7\" class=\"data row0 col7\" >67.647</td>\n",
              "      <td id=\"T_81744_row0_col8\" class=\"data row0 col8\" >1.419</td>\n",
              "      <td id=\"T_81744_row0_col9\" class=\"data row0 col9\" >1305.049</td>\n",
              "      <td id=\"T_81744_row0_col10\" class=\"data row0 col10\" >1008.951</td>\n",
              "    </tr>\n",
              "  </tbody>\n",
              "</table>\n"
            ]
          },
          "metadata": {}
        }
      ]
    },
    {
      "cell_type": "markdown",
      "source": [
        "### Density-based Clustering (Wine)"
      ],
      "metadata": {
        "id": "M0vPEg_sT7b1"
      }
    },
    {
      "cell_type": "code",
      "source": [
        "print(\"\\n--- Wine: Density-based Results ---\")\n",
        "df_density_wine = df_wine[df_wine['Category'] == 'Density-based'].set_index('Algorithm')\n",
        "# Select only numeric columns for formatting\n",
        "numeric_cols = df_density_wine.select_dtypes(include=np.number).columns\n",
        "display(df_density_wine.style.format({col: \"{:.3f}\" for col in numeric_cols}).background_gradient(cmap='viridis', axis=0))"
      ],
      "metadata": {
        "colab": {
          "base_uri": "https://localhost:8080/",
          "height": 179
        },
        "id": "YWcCzSXQUEnO",
        "outputId": "007a0e4a-6e58-46fa-af74-9d374e930e09"
      },
      "execution_count": 16,
      "outputs": [
        {
          "output_type": "stream",
          "name": "stdout",
          "text": [
            "\n",
            "--- Wine: Density-based Results ---\n"
          ]
        },
        {
          "output_type": "display_data",
          "data": {
            "text/plain": [
              "<pandas.io.formats.style.Styler at 0x7aac98575580>"
            ],
            "text/html": [
              "<style type=\"text/css\">\n",
              "#T_b04bb_row0_col1, #T_b04bb_row0_col2, #T_b04bb_row0_col3, #T_b04bb_row0_col4, #T_b04bb_row0_col5, #T_b04bb_row0_col6, #T_b04bb_row0_col7, #T_b04bb_row0_col8, #T_b04bb_row0_col9, #T_b04bb_row0_col10, #T_b04bb_row1_col6, #T_b04bb_row1_col7, #T_b04bb_row1_col8, #T_b04bb_row1_col9, #T_b04bb_row1_col10 {\n",
              "  background-color: #440154;\n",
              "  color: #f1f1f1;\n",
              "}\n",
              "#T_b04bb_row1_col1, #T_b04bb_row1_col2, #T_b04bb_row1_col3, #T_b04bb_row1_col4, #T_b04bb_row1_col5 {\n",
              "  background-color: #fde725;\n",
              "  color: #000000;\n",
              "}\n",
              "</style>\n",
              "<table id=\"T_b04bb\" class=\"dataframe\">\n",
              "  <thead>\n",
              "    <tr>\n",
              "      <th class=\"blank level0\" >&nbsp;</th>\n",
              "      <th id=\"T_b04bb_level0_col0\" class=\"col_heading level0 col0\" >Category</th>\n",
              "      <th id=\"T_b04bb_level0_col1\" class=\"col_heading level0 col1\" >ARI</th>\n",
              "      <th id=\"T_b04bb_level0_col2\" class=\"col_heading level0 col2\" >NMI</th>\n",
              "      <th id=\"T_b04bb_level0_col3\" class=\"col_heading level0 col3\" >RI</th>\n",
              "      <th id=\"T_b04bb_level0_col4\" class=\"col_heading level0 col4\" >AMI</th>\n",
              "      <th id=\"T_b04bb_level0_col5\" class=\"col_heading level0 col5\" >MI</th>\n",
              "      <th id=\"T_b04bb_level0_col6\" class=\"col_heading level0 col6\" >Silhouette</th>\n",
              "      <th id=\"T_b04bb_level0_col7\" class=\"col_heading level0 col7\" >Calinski-Harabasz</th>\n",
              "      <th id=\"T_b04bb_level0_col8\" class=\"col_heading level0 col8\" >Davies-Bouldin</th>\n",
              "      <th id=\"T_b04bb_level0_col9\" class=\"col_heading level0 col9\" >SSE (Cohesion)</th>\n",
              "      <th id=\"T_b04bb_level0_col10\" class=\"col_heading level0 col10\" >SSB (Separation)</th>\n",
              "    </tr>\n",
              "    <tr>\n",
              "      <th class=\"index_name level0\" >Algorithm</th>\n",
              "      <th class=\"blank col0\" >&nbsp;</th>\n",
              "      <th class=\"blank col1\" >&nbsp;</th>\n",
              "      <th class=\"blank col2\" >&nbsp;</th>\n",
              "      <th class=\"blank col3\" >&nbsp;</th>\n",
              "      <th class=\"blank col4\" >&nbsp;</th>\n",
              "      <th class=\"blank col5\" >&nbsp;</th>\n",
              "      <th class=\"blank col6\" >&nbsp;</th>\n",
              "      <th class=\"blank col7\" >&nbsp;</th>\n",
              "      <th class=\"blank col8\" >&nbsp;</th>\n",
              "      <th class=\"blank col9\" >&nbsp;</th>\n",
              "      <th class=\"blank col10\" >&nbsp;</th>\n",
              "    </tr>\n",
              "  </thead>\n",
              "  <tbody>\n",
              "    <tr>\n",
              "      <th id=\"T_b04bb_level0_row0\" class=\"row_heading level0 row0\" >DBSCAN</th>\n",
              "      <td id=\"T_b04bb_row0_col0\" class=\"data row0 col0\" >Density-based</td>\n",
              "      <td id=\"T_b04bb_row0_col1\" class=\"data row0 col1\" >0.000</td>\n",
              "      <td id=\"T_b04bb_row0_col2\" class=\"data row0 col2\" >0.000</td>\n",
              "      <td id=\"T_b04bb_row0_col3\" class=\"data row0 col3\" >0.338</td>\n",
              "      <td id=\"T_b04bb_row0_col4\" class=\"data row0 col4\" >0.000</td>\n",
              "      <td id=\"T_b04bb_row0_col5\" class=\"data row0 col5\" >0.000</td>\n",
              "      <td id=\"T_b04bb_row0_col6\" class=\"data row0 col6\" >nan</td>\n",
              "      <td id=\"T_b04bb_row0_col7\" class=\"data row0 col7\" >nan</td>\n",
              "      <td id=\"T_b04bb_row0_col8\" class=\"data row0 col8\" >nan</td>\n",
              "      <td id=\"T_b04bb_row0_col9\" class=\"data row0 col9\" >nan</td>\n",
              "      <td id=\"T_b04bb_row0_col10\" class=\"data row0 col10\" >nan</td>\n",
              "    </tr>\n",
              "    <tr>\n",
              "      <th id=\"T_b04bb_level0_row1\" class=\"row_heading level0 row1\" >OPTICS</th>\n",
              "      <td id=\"T_b04bb_row1_col0\" class=\"data row1 col0\" >Density-based</td>\n",
              "      <td id=\"T_b04bb_row1_col1\" class=\"data row1 col1\" >0.071</td>\n",
              "      <td id=\"T_b04bb_row1_col2\" class=\"data row1 col2\" >0.280</td>\n",
              "      <td id=\"T_b04bb_row1_col3\" class=\"data row1 col3\" >0.508</td>\n",
              "      <td id=\"T_b04bb_row1_col4\" class=\"data row1 col4\" >0.251</td>\n",
              "      <td id=\"T_b04bb_row1_col5\" class=\"data row1 col5\" >0.287</td>\n",
              "      <td id=\"T_b04bb_row1_col6\" class=\"data row1 col6\" >-0.103</td>\n",
              "      <td id=\"T_b04bb_row1_col7\" class=\"data row1 col7\" >5.883</td>\n",
              "      <td id=\"T_b04bb_row1_col8\" class=\"data row1 col8\" >1.627</td>\n",
              "      <td id=\"T_b04bb_row1_col9\" class=\"data row1 col9\" >80.658</td>\n",
              "      <td id=\"T_b04bb_row1_col10\" class=\"data row1 col10\" >358.317</td>\n",
              "    </tr>\n",
              "  </tbody>\n",
              "</table>\n"
            ]
          },
          "metadata": {}
        }
      ]
    }
  ]
}